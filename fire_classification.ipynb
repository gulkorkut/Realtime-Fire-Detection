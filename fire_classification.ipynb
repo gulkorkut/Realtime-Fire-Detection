{
 "cells": [
  {
   "cell_type": "code",
   "execution_count": 2,
   "id": "e33abef2",
   "metadata": {},
   "outputs": [],
   "source": [
    "import tensorflow as tf\n",
    "from keras.preprocessing.image import ImageDataGenerator"
   ]
  },
  {
   "cell_type": "code",
   "execution_count": 3,
   "id": "383965ed",
   "metadata": {},
   "outputs": [],
   "source": [
    "training_dir = \"dataset/Training\"\n",
    "validation_dir = \"dataset/Validation\"\n",
    "input_shape = (224,224,3)"
   ]
  },
  {
   "cell_type": "code",
   "execution_count": 4,
   "id": "905be4b2",
   "metadata": {},
   "outputs": [
    {
     "name": "stdout",
     "output_type": "stream",
     "text": [
      "Found 980 images belonging to 2 classes.\n",
      "Found 239 images belonging to 2 classes.\n"
     ]
    }
   ],
   "source": [
    "validation_datagen = ImageDataGenerator(rescale = 1./255)\n",
    "\n",
    "training_datagen = ImageDataGenerator(rescale = 1./255,\n",
    "                                      horizontal_flip=True,\n",
    "                                      rotation_range=30,\n",
    "                                      height_shift_range=0.2,\n",
    "                                      fill_mode='nearest')\n",
    "\n",
    "train_generator = training_datagen.flow_from_directory(training_dir,\n",
    "                                                       target_size=(224,224),\n",
    "                                                       class_mode='categorical',\n",
    "                                                       batch_size = 64)\n",
    "\n",
    "validation_generator = validation_datagen.flow_from_directory(validation_dir,\n",
    "                                                              target_size=(224,224),\n",
    "                                                              class_mode='categorical',\n",
    "                                                              batch_size= 16)\n"
   ]
  },
  {
   "cell_type": "code",
   "execution_count": 5,
   "id": "04bdef4b",
   "metadata": {},
   "outputs": [],
   "source": [
    "import keras\n",
    "from keras import layers\n",
    "from tensorflow.keras.optimizers import Adam\n",
    "\n",
    "def fireNet(input_shape):\n",
    "    \n",
    "    model = keras.models.Sequential([ layers.Conv2D(96, (11,11), strides=(4,4), activation=\"relu\", input_shape = input_shape),\n",
    "                                      layers.MaxPooling2D(pool_size=(3,3), strides=(2,2)),\n",
    "                                      \n",
    "                                      layers.Conv2D(256, (5,5), activation=\"relu\"),\n",
    "                                      layers.MaxPooling2D(pool_size=(3,3), strides=(2,2)),\n",
    "                                      \n",
    "                                      layers.Conv2D(384, (5,5), activation=\"relu\"),\n",
    "                                      layers.MaxPooling2D(pool_size=(3,3), strides=(2,2)),\n",
    "                                    \n",
    "                                      layers.Flatten(),\n",
    "                                      layers.Dropout(0.3),\n",
    "                                     \n",
    "                                      layers.Dense(2048, activation=\"relu\"),\n",
    "                                      layers.Dropout(0.3),\n",
    "                                     \n",
    "                                      layers.Dense(1024, activation=\"relu\"),\n",
    "                                      layers.Dropout(0.3),\n",
    "                                     \n",
    "                                      layers.Dense(2, activation=\"softmax\")\n",
    "                                     ])\n",
    "    \n",
    "    model.compile(loss = \"categorical_crossentropy\",\n",
    "                  optimizer = Adam(lr = 1e-4),\n",
    "                  metrics = [\"acc\"])\n",
    "    \n",
    "    return model"
   ]
  },
  {
   "cell_type": "code",
   "execution_count": 6,
   "id": "8a86bf12",
   "metadata": {},
   "outputs": [
    {
     "name": "stdout",
     "output_type": "stream",
     "text": [
      "WARNING:tensorflow:From C:\\Users\\kaaaaaaa\\anaconda3\\Lib\\site-packages\\keras\\src\\backend.py:873: The name tf.get_default_graph is deprecated. Please use tf.compat.v1.get_default_graph instead.\n",
      "\n",
      "WARNING:tensorflow:From C:\\Users\\kaaaaaaa\\anaconda3\\Lib\\site-packages\\keras\\src\\layers\\pooling\\max_pooling2d.py:161: The name tf.nn.max_pool is deprecated. Please use tf.nn.max_pool2d instead.\n",
      "\n"
     ]
    },
    {
     "name": "stderr",
     "output_type": "stream",
     "text": [
      "WARNING:absl:`lr` is deprecated in Keras optimizer, please use `learning_rate` or use the legacy optimizer, e.g.,tf.keras.optimizers.legacy.Adam.\n"
     ]
    },
    {
     "name": "stdout",
     "output_type": "stream",
     "text": [
      "Model: \"sequential\"\n",
      "_________________________________________________________________\n",
      " Layer (type)                Output Shape              Param #   \n",
      "=================================================================\n",
      " conv2d (Conv2D)             (None, 54, 54, 96)        34944     \n",
      "                                                                 \n",
      " max_pooling2d (MaxPooling2  (None, 26, 26, 96)        0         \n",
      " D)                                                              \n",
      "                                                                 \n",
      " conv2d_1 (Conv2D)           (None, 22, 22, 256)       614656    \n",
      "                                                                 \n",
      " max_pooling2d_1 (MaxPoolin  (None, 10, 10, 256)       0         \n",
      " g2D)                                                            \n",
      "                                                                 \n",
      " conv2d_2 (Conv2D)           (None, 6, 6, 384)         2457984   \n",
      "                                                                 \n",
      " max_pooling2d_2 (MaxPoolin  (None, 2, 2, 384)         0         \n",
      " g2D)                                                            \n",
      "                                                                 \n",
      " flatten (Flatten)           (None, 1536)              0         \n",
      "                                                                 \n",
      " dropout (Dropout)           (None, 1536)              0         \n",
      "                                                                 \n",
      " dense (Dense)               (None, 2048)              3147776   \n",
      "                                                                 \n",
      " dropout_1 (Dropout)         (None, 2048)              0         \n",
      "                                                                 \n",
      " dense_1 (Dense)             (None, 1024)              2098176   \n",
      "                                                                 \n",
      " dropout_2 (Dropout)         (None, 1024)              0         \n",
      "                                                                 \n",
      " dense_2 (Dense)             (None, 2)                 2050      \n",
      "                                                                 \n",
      "=================================================================\n",
      "Total params: 8355586 (31.87 MB)\n",
      "Trainable params: 8355586 (31.87 MB)\n",
      "Non-trainable params: 0 (0.00 Byte)\n",
      "_________________________________________________________________\n"
     ]
    }
   ],
   "source": [
    "model = fireNet(input_shape)\n",
    "model.summary()"
   ]
  },
  {
   "cell_type": "code",
   "execution_count": 7,
   "id": "23762193",
   "metadata": {},
   "outputs": [
    {
     "name": "stdout",
     "output_type": "stream",
     "text": [
      "Epoch 1/50\n",
      "WARNING:tensorflow:From C:\\Users\\kaaaaaaa\\anaconda3\\Lib\\site-packages\\keras\\src\\utils\\tf_utils.py:492: The name tf.ragged.RaggedTensorValue is deprecated. Please use tf.compat.v1.ragged.RaggedTensorValue instead.\n",
      "\n"
     ]
    },
    {
     "name": "stderr",
     "output_type": "stream",
     "text": [
      "WARNING:tensorflow:From C:\\Users\\kaaaaaaa\\anaconda3\\Lib\\site-packages\\keras\\src\\utils\\tf_utils.py:492: The name tf.ragged.RaggedTensorValue is deprecated. Please use tf.compat.v1.ragged.RaggedTensorValue instead.\n",
      "\n"
     ]
    },
    {
     "name": "stdout",
     "output_type": "stream",
     "text": [
      "WARNING:tensorflow:From C:\\Users\\kaaaaaaa\\anaconda3\\Lib\\site-packages\\keras\\src\\engine\\base_layer_utils.py:384: The name tf.executing_eagerly_outside_functions is deprecated. Please use tf.compat.v1.executing_eagerly_outside_functions instead.\n",
      "\n"
     ]
    },
    {
     "name": "stderr",
     "output_type": "stream",
     "text": [
      "WARNING:tensorflow:From C:\\Users\\kaaaaaaa\\anaconda3\\Lib\\site-packages\\keras\\src\\engine\\base_layer_utils.py:384: The name tf.executing_eagerly_outside_functions is deprecated. Please use tf.compat.v1.executing_eagerly_outside_functions instead.\n",
      "\n"
     ]
    },
    {
     "name": "stdout",
     "output_type": "stream",
     "text": [
      "15/15 [==============================] - 49s 3s/step - loss: 0.8138 - acc: 0.6583 - val_loss: 0.5076 - val_acc: 0.7322\n",
      "Epoch 2/50\n",
      "15/15 [==============================] - 48s 3s/step - loss: 0.4435 - acc: 0.7875 - val_loss: 0.4535 - val_acc: 0.7782\n",
      "Epoch 3/50\n",
      "15/15 [==============================] - 49s 3s/step - loss: 0.4392 - acc: 0.7740 - val_loss: 0.4305 - val_acc: 0.7657\n",
      "Epoch 4/50\n",
      "15/15 [==============================] - 46s 3s/step - loss: 0.3729 - acc: 0.8603 - val_loss: 0.3541 - val_acc: 0.8787\n",
      "Epoch 5/50\n",
      "15/15 [==============================] - 46s 3s/step - loss: 0.3278 - acc: 0.8843 - val_loss: 0.3055 - val_acc: 0.9079\n",
      "Epoch 6/50\n",
      "15/15 [==============================] - 47s 3s/step - loss: 0.2695 - acc: 0.8919 - val_loss: 0.3869 - val_acc: 0.8996\n",
      "Epoch 7/50\n",
      "15/15 [==============================] - 47s 3s/step - loss: 0.2849 - acc: 0.9105 - val_loss: 0.3643 - val_acc: 0.9038\n",
      "Epoch 8/50\n",
      "15/15 [==============================] - 46s 3s/step - loss: 0.2395 - acc: 0.9236 - val_loss: 0.2703 - val_acc: 0.9372\n",
      "Epoch 9/50\n",
      "15/15 [==============================] - 47s 3s/step - loss: 0.2549 - acc: 0.9170 - val_loss: 0.2762 - val_acc: 0.9079\n",
      "Epoch 10/50\n",
      "15/15 [==============================] - 47s 3s/step - loss: 0.2319 - acc: 0.9236 - val_loss: 0.2730 - val_acc: 0.9414\n",
      "Epoch 11/50\n",
      "15/15 [==============================] - 47s 3s/step - loss: 0.1918 - acc: 0.9378 - val_loss: 0.2390 - val_acc: 0.9372\n",
      "Epoch 12/50\n",
      "15/15 [==============================] - 48s 3s/step - loss: 0.1890 - acc: 0.9432 - val_loss: 0.3042 - val_acc: 0.9205\n",
      "Epoch 13/50\n",
      "15/15 [==============================] - 47s 3s/step - loss: 0.2056 - acc: 0.9367 - val_loss: 0.2697 - val_acc: 0.9247\n",
      "Epoch 14/50\n",
      "15/15 [==============================] - 48s 3s/step - loss: 0.2500 - acc: 0.9072 - val_loss: 0.2571 - val_acc: 0.9247\n",
      "Epoch 15/50\n",
      "15/15 [==============================] - 49s 3s/step - loss: 0.2250 - acc: 0.9269 - val_loss: 0.3140 - val_acc: 0.9205\n",
      "Epoch 16/50\n",
      "15/15 [==============================] - 49s 3s/step - loss: 0.1763 - acc: 0.9389 - val_loss: 0.2152 - val_acc: 0.9247\n",
      "Epoch 17/50\n",
      "15/15 [==============================] - 49s 3s/step - loss: 0.1737 - acc: 0.9356 - val_loss: 0.2228 - val_acc: 0.9247\n",
      "Epoch 18/50\n",
      "15/15 [==============================] - 46s 3s/step - loss: 0.1718 - acc: 0.9378 - val_loss: 0.2504 - val_acc: 0.9372\n",
      "Epoch 19/50\n",
      "15/15 [==============================] - 45s 3s/step - loss: 0.1898 - acc: 0.9334 - val_loss: 0.2104 - val_acc: 0.9289\n",
      "Epoch 20/50\n",
      "15/15 [==============================] - 43s 3s/step - loss: 0.1611 - acc: 0.9454 - val_loss: 0.3053 - val_acc: 0.9121\n",
      "Epoch 21/50\n",
      "15/15 [==============================] - 48s 3s/step - loss: 0.2057 - acc: 0.9225 - val_loss: 0.2837 - val_acc: 0.8954\n",
      "Epoch 22/50\n",
      "15/15 [==============================] - 47s 3s/step - loss: 0.1822 - acc: 0.9421 - val_loss: 0.2111 - val_acc: 0.9372\n",
      "Epoch 23/50\n",
      "15/15 [==============================] - 39s 2s/step - loss: 0.1660 - acc: 0.9443 - val_loss: 0.1985 - val_acc: 0.9414\n",
      "Epoch 24/50\n",
      "15/15 [==============================] - 38s 3s/step - loss: 0.1590 - acc: 0.9443 - val_loss: 0.1776 - val_acc: 0.9372\n",
      "Epoch 25/50\n",
      "15/15 [==============================] - 40s 3s/step - loss: 0.1845 - acc: 0.9356 - val_loss: 0.2003 - val_acc: 0.9372\n",
      "Epoch 26/50\n",
      "15/15 [==============================] - 44s 3s/step - loss: 0.1619 - acc: 0.9487 - val_loss: 0.1839 - val_acc: 0.9414\n",
      "Epoch 27/50\n",
      "15/15 [==============================] - 44s 3s/step - loss: 0.1387 - acc: 0.9574 - val_loss: 0.1732 - val_acc: 0.9414\n",
      "Epoch 28/50\n",
      "15/15 [==============================] - 46s 3s/step - loss: 0.1232 - acc: 0.9521 - val_loss: 0.1671 - val_acc: 0.9414\n",
      "Epoch 29/50\n",
      "15/15 [==============================] - 44s 3s/step - loss: 0.1405 - acc: 0.9498 - val_loss: 0.1514 - val_acc: 0.9456\n",
      "Epoch 30/50\n",
      "15/15 [==============================] - 44s 3s/step - loss: 0.1277 - acc: 0.9585 - val_loss: 0.2318 - val_acc: 0.9247\n",
      "Epoch 31/50\n",
      "15/15 [==============================] - 45s 3s/step - loss: 0.1418 - acc: 0.9509 - val_loss: 0.1771 - val_acc: 0.9498\n",
      "Epoch 32/50\n",
      "15/15 [==============================] - 45s 3s/step - loss: 0.1476 - acc: 0.9465 - val_loss: 0.1695 - val_acc: 0.9414\n",
      "Epoch 33/50\n",
      "15/15 [==============================] - 45s 3s/step - loss: 0.1234 - acc: 0.9552 - val_loss: 0.1535 - val_acc: 0.9456\n",
      "Epoch 34/50\n",
      "15/15 [==============================] - 52s 4s/step - loss: 0.1281 - acc: 0.9487 - val_loss: 0.2219 - val_acc: 0.9414\n",
      "Epoch 35/50\n",
      "15/15 [==============================] - 49s 3s/step - loss: 0.1433 - acc: 0.9498 - val_loss: 0.2037 - val_acc: 0.8996\n",
      "Epoch 36/50\n",
      "15/15 [==============================] - 45s 3s/step - loss: 0.1138 - acc: 0.9596 - val_loss: 0.3236 - val_acc: 0.9372\n",
      "Epoch 37/50\n",
      "15/15 [==============================] - 46s 3s/step - loss: 0.2237 - acc: 0.9159 - val_loss: 0.2455 - val_acc: 0.9205\n",
      "Epoch 38/50\n",
      "15/15 [==============================] - 45s 3s/step - loss: 0.1850 - acc: 0.9323 - val_loss: 0.2201 - val_acc: 0.9372\n",
      "Epoch 39/50\n",
      "15/15 [==============================] - 45s 3s/step - loss: 0.1516 - acc: 0.9454 - val_loss: 0.1959 - val_acc: 0.9456\n",
      "Epoch 40/50\n",
      "15/15 [==============================] - 45s 3s/step - loss: 0.1056 - acc: 0.9716 - val_loss: 0.2225 - val_acc: 0.9331\n",
      "Epoch 41/50\n",
      "15/15 [==============================] - 44s 3s/step - loss: 0.1321 - acc: 0.9574 - val_loss: 0.1684 - val_acc: 0.9414\n",
      "Epoch 42/50\n",
      "15/15 [==============================] - 45s 3s/step - loss: 0.1205 - acc: 0.9563 - val_loss: 0.1985 - val_acc: 0.9414\n",
      "Epoch 43/50\n",
      "15/15 [==============================] - 45s 3s/step - loss: 0.1221 - acc: 0.9520 - val_loss: 0.1917 - val_acc: 0.9372\n",
      "Epoch 44/50\n",
      "15/15 [==============================] - 47s 3s/step - loss: 0.1148 - acc: 0.9607 - val_loss: 0.1624 - val_acc: 0.9498\n",
      "Epoch 45/50\n",
      "15/15 [==============================] - 45s 3s/step - loss: 0.1435 - acc: 0.9574 - val_loss: 0.1604 - val_acc: 0.9456\n",
      "Epoch 46/50\n",
      "15/15 [==============================] - 45s 3s/step - loss: 0.1196 - acc: 0.9541 - val_loss: 0.1815 - val_acc: 0.9498\n",
      "Epoch 47/50\n",
      "15/15 [==============================] - 46s 3s/step - loss: 0.1311 - acc: 0.9531 - val_loss: 0.1873 - val_acc: 0.9456\n",
      "Epoch 48/50\n",
      "15/15 [==============================] - 47s 3s/step - loss: 0.1034 - acc: 0.9651 - val_loss: 0.2070 - val_acc: 0.9372\n",
      "Epoch 49/50\n",
      "15/15 [==============================] - 45s 3s/step - loss: 0.1390 - acc: 0.9563 - val_loss: 0.1572 - val_acc: 0.9540\n",
      "Epoch 50/50\n",
      "15/15 [==============================] - 48s 3s/step - loss: 0.1402 - acc: 0.9563 - val_loss: 0.1626 - val_acc: 0.9498\n"
     ]
    }
   ],
   "source": [
    "history = model.fit( train_generator,\n",
    "                     steps_per_epoch = 15,\n",
    "                     epochs = 50,\n",
    "                     validation_data = validation_generator,\n",
    "                    validation_steps = 15 )"
   ]
  },
  {
   "cell_type": "code",
   "execution_count": 8,
   "id": "e8b54fcc",
   "metadata": {},
   "outputs": [
    {
     "data": {
      "image/png": "[encoded data removed]",
      "text/plain": [
       "<Figure size 640x480 with 1 Axes>"
      ]
     },
     "metadata": {},
     "output_type": "display_data"
    },
    {
     "data": {
      "text/plain": [
       "<Figure size 640x480 with 0 Axes>"
      ]
     },
     "metadata": {},
     "output_type": "display_data"
    },
    {
     "data": {
      "image/png": "[encoded data removed]",
      "text/plain": [
       "<Figure size 640x480 with 1 Axes>"
      ]
     },
     "metadata": {},
     "output_type": "display_data"
    },
    {
     "data": {
      "text/plain": [
       "<Figure size 640x480 with 0 Axes>"
      ]
     },
     "metadata": {},
     "output_type": "display_data"
    }
   ],
   "source": [
    "import matplotlib.pyplot as plt\n",
    "\n",
    "acc = history.history[\"acc\"]\n",
    "val_acc = history.history[\"val_acc\"]\n",
    "\n",
    "loss = history.history[\"loss\"]\n",
    "val_loss = history.history[\"val_loss\"]\n",
    "\n",
    "epochs = range(0,50)\n",
    "\n",
    "\n",
    "plt.plot(epochs, acc, \"g\", label=\"Training Accuracy\")\n",
    "plt.plot(epochs, val_acc, \"black\", label=\"Validation Accuracy\")\n",
    "plt.title(\"Training|Validation Accuracy\")\n",
    "\n",
    "plt.legend(loc=0)\n",
    "plt.figure()\n",
    "plt.show()\n",
    "\n",
    "\n",
    "plt.plot(epochs, loss, \"r\",label=\"Training Loss\")\n",
    "plt.plot(epochs, val_loss, \"blue\",label=\"Validation Loss\")\n",
    "plt.title(\"Training|Validation Loss\")\n",
    "\n",
    "plt.legend(loc=0)\n",
    "plt.figure()\n",
    "plt.show()\n",
    "\n"
   ]
  },
  {
   "cell_type": "code",
   "execution_count": 10,
   "id": "4890c712",
   "metadata": {},
   "outputs": [],
   "source": [
    "model.save(\"models/fire_model.h5\")"
   ]
  },
  {
   "cell_type": "code",
   "execution_count": 11,
   "id": "e49dc5f2",
   "metadata": {},
   "outputs": [],
   "source": [
    "import cv2\n",
    "import numpy as np\n",
    "from keras.models import load_model"
   ]
  },
  {
   "cell_type": "code",
   "execution_count": 12,
   "id": "c2494ae6",
   "metadata": {},
   "outputs": [],
   "source": [
    "model = load_model(\"models/fire_model.h5\")\n",
    "path = \"test/test.jpg\"\n",
    "video_path = \"test/test.mp4\""
   ]
  },
  {
   "cell_type": "code",
   "execution_count": 16,
   "id": "9280f3e9",
   "metadata": {},
   "outputs": [
    {
     "name": "stdout",
     "output_type": "stream",
     "text": [
      "1/1 [==============================] - 0s 29ms/step\n"
     ]
    }
   ],
   "source": [
    "test_img = cv2.imread(path)\n",
    "\n",
    "img = np.asarray(test_img)\n",
    "img = cv2.resize(img, (224,224))\n",
    "\n",
    "img = img/255\n",
    "#print(img.shape)\n",
    "\n",
    "img = img.reshape(1,224,224,3)\n",
    "#print(img.shape)\n",
    "\n",
    "predictions = model.predict(img)\n",
    "pred = np.argmax(predictions[0])\n",
    "\n",
    "probability = predictions[0][pred]\n",
    "probability_ = \"% {:.2f}\".format(probability*100)\n",
    "\n",
    "if pred == 1:\n",
    "    label = \"Fire\"\n",
    "else:\n",
    "    label = \"Neutral\"\n",
    "    \n",
    "font = cv2.FONT_HERSHEY_SIMPLEX\n",
    "color = (0,255,0)\n",
    "\n",
    "cv2.putText(test_img, label, (35,60), font, 1, color, 2)\n",
    "cv2.putText(test_img, probability_, (35,100), font, 1, color, 2)\n",
    "\n",
    "cv2.imshow(\"Prediction\", test_img)\n",
    "cv2.waitKey(0)\n",
    "cv2.destroyAllWindows()"
   ]
  },
  {
   "cell_type": "code",
   "execution_count": 17,
   "id": "3d2075ab",
   "metadata": {},
   "outputs": [
    {
     "name": "stdout",
     "output_type": "stream",
     "text": [
      "1/1 [==============================] - 0s 31ms/step\n",
      "1/1 [==============================] - 0s 31ms/step\n",
      "1/1 [==============================] - 0s 31ms/step\n",
      "1/1 [==============================] - 0s 25ms/step\n",
      "1/1 [==============================] - 0s 31ms/step\n",
      "1/1 [==============================] - 0s 31ms/step\n",
      "1/1 [==============================] - 0s 31ms/step\n",
      "1/1 [==============================] - 0s 37ms/step\n",
      "1/1 [==============================] - 0s 31ms/step\n",
      "1/1 [==============================] - 0s 31ms/step\n",
      "1/1 [==============================] - 0s 31ms/step\n",
      "1/1 [==============================] - 0s 31ms/step\n",
      "1/1 [==============================] - 0s 31ms/step\n",
      "1/1 [==============================] - 0s 47ms/step\n",
      "1/1 [==============================] - 0s 31ms/step\n",
      "1/1 [==============================] - 0s 31ms/step\n",
      "1/1 [==============================] - 0s 31ms/step\n",
      "1/1 [==============================] - 0s 31ms/step\n",
      "1/1 [==============================] - 0s 31ms/step\n",
      "1/1 [==============================] - 0s 31ms/step\n",
      "1/1 [==============================] - 0s 31ms/step\n",
      "1/1 [==============================] - 0s 31ms/step\n",
      "1/1 [==============================] - 0s 31ms/step\n",
      "1/1 [==============================] - 0s 31ms/step\n",
      "1/1 [==============================] - 0s 47ms/step\n",
      "1/1 [==============================] - 0s 31ms/step\n",
      "1/1 [==============================] - 0s 31ms/step\n",
      "1/1 [==============================] - 0s 31ms/step\n",
      "1/1 [==============================] - 0s 31ms/step\n",
      "1/1 [==============================] - 0s 31ms/step\n",
      "1/1 [==============================] - 0s 31ms/step\n",
      "1/1 [==============================] - 0s 31ms/step\n",
      "1/1 [==============================] - 0s 31ms/step\n",
      "1/1 [==============================] - 0s 31ms/step\n",
      "1/1 [==============================] - 0s 31ms/step\n",
      "1/1 [==============================] - 0s 31ms/step\n",
      "1/1 [==============================] - 0s 31ms/step\n",
      "1/1 [==============================] - 0s 31ms/step\n",
      "1/1 [==============================] - 0s 47ms/step\n",
      "1/1 [==============================] - 0s 31ms/step\n",
      "1/1 [==============================] - 0s 47ms/step\n",
      "1/1 [==============================] - 0s 31ms/step\n",
      "1/1 [==============================] - 0s 47ms/step\n",
      "1/1 [==============================] - 0s 31ms/step\n",
      "1/1 [==============================] - 0s 31ms/step\n",
      "1/1 [==============================] - 0s 31ms/step\n",
      "1/1 [==============================] - 0s 31ms/step\n",
      "1/1 [==============================] - 0s 47ms/step\n",
      "1/1 [==============================] - 0s 47ms/step\n",
      "1/1 [==============================] - 0s 47ms/step\n",
      "1/1 [==============================] - 0s 31ms/step\n",
      "1/1 [==============================] - 0s 31ms/step\n",
      "1/1 [==============================] - 0s 31ms/step\n",
      "1/1 [==============================] - 0s 31ms/step\n",
      "1/1 [==============================] - 0s 47ms/step\n",
      "1/1 [==============================] - 0s 47ms/step\n",
      "1/1 [==============================] - 0s 31ms/step\n",
      "1/1 [==============================] - 0s 31ms/step\n",
      "1/1 [==============================] - 0s 31ms/step\n",
      "1/1 [==============================] - 0s 31ms/step\n",
      "1/1 [==============================] - 0s 32ms/step\n",
      "1/1 [==============================] - 0s 47ms/step\n",
      "1/1 [==============================] - 0s 31ms/step\n",
      "1/1 [==============================] - 0s 31ms/step\n",
      "1/1 [==============================] - 0s 31ms/step\n",
      "1/1 [==============================] - 0s 31ms/step\n",
      "1/1 [==============================] - 0s 31ms/step\n",
      "1/1 [==============================] - 0s 47ms/step\n",
      "1/1 [==============================] - 0s 31ms/step\n",
      "1/1 [==============================] - 0s 31ms/step\n",
      "1/1 [==============================] - 0s 31ms/step\n",
      "1/1 [==============================] - 0s 31ms/step\n",
      "1/1 [==============================] - 0s 31ms/step\n",
      "1/1 [==============================] - 0s 31ms/step\n",
      "1/1 [==============================] - 0s 31ms/step\n",
      "1/1 [==============================] - 0s 31ms/step\n",
      "1/1 [==============================] - 0s 31ms/step\n"
     ]
    }
   ],
   "source": [
    "cap = cv2.VideoCapture(video_path)\n",
    "\n",
    "while True:\n",
    "    ret,frame = cap.read()\n",
    "    \n",
    "    img = np.asarray(frame)\n",
    "    img = cv2.resize(img, (224,224))\n",
    "\n",
    "    img = img/255\n",
    "    #print(img.shape)\n",
    "\n",
    "    img = img.reshape(1,224,224,3)\n",
    "    #print(img.shape)\n",
    "\n",
    "    predictions = model.predict(img)\n",
    "    pred = np.argmax(predictions[0])\n",
    "\n",
    "    probability = predictions[0][pred]\n",
    "    probability_ = \"% {:.2f}\".format(probability*100)\n",
    "\n",
    "    if pred == 1:\n",
    "        label = \"Fire\"\n",
    "    else:\n",
    "        label = \"Neutral\"\n",
    "\n",
    "    font = cv2.FONT_HERSHEY_SIMPLEX\n",
    "    color = (0,255,0)\n",
    "\n",
    "    cv2.putText(frame, label, (35,60), font, 1, color, 2)\n",
    "    cv2.putText(frame, probability_, (35,100), font, 1, color, 2)\n",
    "\n",
    "    cv2.imshow(\"Prediction\", frame)\n",
    "\n",
    "    if cv2.waitKey(10) & 0xFF == ord(\"q\"):\n",
    "        break\n",
    "    \n",
    "    \n",
    "cap.release()\n",
    "cv2.destroyAllWindows()\n",
    "    \n",
    "\n"
   ]
  },
  {
   "cell_type": "code",
   "execution_count": null,
   "id": "49942376",
   "metadata": {},
   "outputs": [],
   "source": []
  }
 ],
 "metadata": {
  "kernelspec": {
   "display_name": "Python 3 (ipykernel)",
   "language": "python",
   "name": "python3"
  },
  "language_info": {
   "codemirror_mode": {
    "name": "ipython",
    "version": 3
   },
   "file_extension": ".py",
   "mimetype": "text/x-python",
   "name": "python",
   "nbconvert_exporter": "python",
   "pygments_lexer": "ipython3",
   "version": "3.11.5"
  }
 },
 "nbformat": 4,
 "nbformat_minor": 5
}
